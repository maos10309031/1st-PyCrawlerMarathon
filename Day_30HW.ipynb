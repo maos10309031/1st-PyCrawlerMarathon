{
 "cells": [
  {
   "cell_type": "markdown",
   "metadata": {},
   "source": [
    "#### （簡答題）試著舉出一到三個爬蟲可能會遇到的問題導致無法抓取的？\n",
    "* 網站交互問題 :有些網頁往往需要和用戶進行一些交互，進而才能走到下一步，比如輸入一個驗證碼，拖動一個滑塊，選幾個漢字。網站之所以這麼做，很多時候都是為了驗證訪問者到底是人還是機器。\n",
    "* Javascript 解析問題:javascript可以動態生成dom，目前大多數網頁屬於動態網頁（內容由javascript動態填充），尤其是在移動端，SPA/PWA應用越來越流行，網頁中大多數有用的數據都是通過ajax/fetch動態獲取後然後再由js填充到網頁dom樹中，單純的html靜態頁面中有用的數據很少。\n",
    "如果一昧的去用後台腳本去干javascript本來做的事，這就要清楚的理解原網頁代碼邏輯，而這不僅非常麻煩，而且會使你的爬取代碼異常龐大臃腫，但是，更致命的是，有些javascript可以做的事爬蟲程序是很難甚至是不能模仿的，比如有些網站使用拖動滑塊到某個位置的驗證碼機制，這就很難再爬蟲中去模仿。\n",
    "* IP限制:這是目前對後台爬蟲中最致命的。網站的防火牆會對某個固定ip在某段時間內請求的次數做限制，如果沒有超過上線則正常返回數據，超過了，則拒絕請求\n"
   ]
  },
  {
   "cell_type": "code",
   "execution_count": null,
   "metadata": {},
   "outputs": [],
   "source": []
  }
 ],
 "metadata": {
  "kernelspec": {
   "display_name": "clawer",
   "language": "python",
   "name": "clawer"
  },
  "language_info": {
   "codemirror_mode": {
    "name": "ipython",
    "version": 3
   },
   "file_extension": ".py",
   "mimetype": "text/x-python",
   "name": "python",
   "nbconvert_exporter": "python",
   "pygments_lexer": "ipython3",
   "version": "3.7.0"
  }
 },
 "nbformat": 4,
 "nbformat_minor": 2
}
