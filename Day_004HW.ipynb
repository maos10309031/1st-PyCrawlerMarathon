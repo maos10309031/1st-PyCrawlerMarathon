{
 "cells": [
  {
   "cell_type": "code",
   "execution_count": 39,
   "metadata": {},
   "outputs": [
    {
     "name": "stdout",
     "output_type": "stream",
     "text": [
      "<class 'requests.models.Response'>\n",
      "<class 'str'>\n"
     ]
    }
   ],
   "source": [
    "import requests\n",
    "\n",
    "r = requests.get('https://api.github.com/events')\n",
    "print(type(r))\n",
    "print(type(r.text))"
   ]
  },
  {
   "cell_type": "code",
   "execution_count": 38,
   "metadata": {},
   "outputs": [
    {
     "name": "stdout",
     "output_type": "stream",
     "text": [
      "<class 'list'>\n",
      "('id', '11082297293')\n",
      "('type', 'CreateEvent')\n",
      "('actor', {'id': 25606248, 'login': 'dev-rminds', 'display_login': 'dev-rminds', 'gravatar_id': '', 'url': 'https://api.github.com/users/dev-rminds', 'avatar_url': 'https://avatars.githubusercontent.com/u/25606248?'})\n",
      "('repo', {'id': 134847115, 'name': 'teamforus/forus-backend', 'url': 'https://api.github.com/repos/teamforus/forus-backend'})\n",
      "('payload', {'ref': 'develop.fund-provider-invitations', 'ref_type': 'branch', 'master_branch': 'master', 'description': 'Backend for the Forus platform', 'pusher_type': 'user'})\n",
      "('public', True)\n",
      "('created_at', '2019-12-13T11:46:07Z')\n",
      "('org', {'id': 30194816, 'login': 'teamforus', 'gravatar_id': '', 'url': 'https://api.github.com/orgs/teamforus', 'avatar_url': 'https://avatars.githubusercontent.com/u/30194816?'})\n"
     ]
    }
   ],
   "source": [
    "import json\n",
    "j= json.loads(r.text)\n",
    "print(type(j))\n",
    "for item in j[0].items():\n",
    "    print(item)"
   ]
  },
  {
   "cell_type": "markdown",
   "metadata": {},
   "source": [
    "#### 比較一下範例檔案中的「r.text」與「json.loads(r.text)」讀出來的內容有什麼差異\n",
    "#### 自行尋找一個合適的 API 接口做練習，並且查看其回傳內容\n",
    "* r.text 會回傳整個文字檔案字串，json.loads則可以把它轉換為可讀取的json格式\n",
    "* "
   ]
  }
 ],
 "metadata": {
  "kernelspec": {
   "display_name": "Python 3",
   "language": "python",
   "name": "python3"
  },
  "language_info": {
   "codemirror_mode": {
    "name": "ipython",
    "version": 3
   },
   "file_extension": ".py",
   "mimetype": "text/x-python",
   "name": "python",
   "nbconvert_exporter": "python",
   "pygments_lexer": "ipython3",
   "version": "3.7.1"
  }
 },
 "nbformat": 4,
 "nbformat_minor": 2
}
