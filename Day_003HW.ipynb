{
 "cells": [
  {
   "cell_type": "markdown",
   "metadata": {},
   "source": [
    "import xmltodict\n",
    "#loading file\n",
    "with open('./sample.xml','r',encoding=\"utf-8\") as fd:\n",
    "    doc = dict(xmltodict.parse(fd.read()))\n",
    "print (doc['CUPOY']['Title'])\n",
    "chapters = doc['CUPOY']['Chapters']['Chapter']\n",
    "for chapter in chapters:\n",
    "    print(chapter['@name'],chapter['#text'])"
   ]
  },
  {
   "cell_type": "code",
   "execution_count": 34,
   "metadata": {},
   "outputs": [
    {
     "name": "stdout",
     "output_type": "stream",
     "text": [
      "64_72hr_CH.xml\n",
      "64_72hr_EN.xml\n"
     ]
    }
   ],
   "source": [
    "import os\n",
    "for dir in os.listdir():\n",
    "    if '64_72hr' in dir:\n",
    "        print(dir)"
   ]
  },
  {
   "cell_type": "code",
   "execution_count": 74,
   "metadata": {
    "scrolled": true
   },
   "outputs": [
    {
     "name": "stdout",
     "output_type": "stream",
     "text": [
      "高雄市\n",
      "鹽埕區\n",
      "   2019-06-28T12:00:00+08:00 33 °C\n",
      "鼓山區\n",
      "   2019-06-28T12:00:00+08:00 33 °C\n",
      "左營區\n",
      "   2019-06-28T12:00:00+08:00 33 °C\n",
      "楠梓區\n",
      "   2019-06-28T12:00:00+08:00 34 °C\n",
      "三民區\n",
      "   2019-06-28T12:00:00+08:00 32 °C\n",
      "新興區\n",
      "   2019-06-28T12:00:00+08:00 33 °C\n",
      "前金區\n",
      "   2019-06-28T12:00:00+08:00 33 °C\n",
      "苓雅區\n",
      "   2019-06-28T12:00:00+08:00 33 °C\n",
      "前鎮區\n",
      "   2019-06-28T12:00:00+08:00 33 °C\n",
      "旗津區\n",
      "   2019-06-28T12:00:00+08:00 32 °C\n",
      "小港區\n",
      "   2019-06-28T12:00:00+08:00 33 °C\n",
      "鳳山區\n",
      "   2019-06-28T12:00:00+08:00 34 °C\n",
      "林園區\n",
      "   2019-06-28T12:00:00+08:00 33 °C\n",
      "大寮區\n",
      "   2019-06-28T12:00:00+08:00 34 °C\n",
      "大樹區\n",
      "   2019-06-28T12:00:00+08:00 34 °C\n",
      "大社區\n",
      "   2019-06-28T12:00:00+08:00 34 °C\n",
      "仁武區\n",
      "   2019-06-28T12:00:00+08:00 33 °C\n",
      "鳥松區\n",
      "   2019-06-28T12:00:00+08:00 34 °C\n",
      "岡山區\n",
      "   2019-06-28T12:00:00+08:00 34 °C\n",
      "橋頭區\n",
      "   2019-06-28T12:00:00+08:00 35 °C\n",
      "燕巢區\n",
      "   2019-06-28T12:00:00+08:00 34 °C\n",
      "田寮區\n",
      "   2019-06-28T12:00:00+08:00 34 °C\n",
      "阿蓮區\n",
      "   2019-06-28T12:00:00+08:00 34 °C\n",
      "路竹區\n",
      "   2019-06-28T12:00:00+08:00 33 °C\n",
      "湖內區\n",
      "   2019-06-28T12:00:00+08:00 33 °C\n",
      "茄萣區\n",
      "   2019-06-28T12:00:00+08:00 33 °C\n",
      "永安區\n",
      "   2019-06-28T12:00:00+08:00 32 °C\n",
      "彌陀區\n",
      "   2019-06-28T12:00:00+08:00 32 °C\n",
      "梓官區\n",
      "   2019-06-28T12:00:00+08:00 32 °C\n",
      "旗山區\n",
      "   2019-06-28T12:00:00+08:00 34 °C\n",
      "美濃區\n",
      "   2019-06-28T12:00:00+08:00 34 °C\n",
      "六龜區\n",
      "   2019-06-28T12:00:00+08:00 34 °C\n",
      "甲仙區\n",
      "   2019-06-28T12:00:00+08:00 33 °C\n",
      "杉林區\n",
      "   2019-06-28T12:00:00+08:00 36 °C\n",
      "內門區\n",
      "   2019-06-28T12:00:00+08:00 34 °C\n",
      "茂林區\n",
      "   2019-06-28T12:00:00+08:00 34 °C\n",
      "桃源區\n",
      "   2019-06-28T12:00:00+08:00 31 °C\n",
      "那瑪夏區\n",
      "   2019-06-28T12:00:00+08:00 29 °C\n"
     ]
    }
   ],
   "source": [
    "with open('./64_72hr_CH.xml','r',encoding='utf-8') as fr:\n",
    "    xml = fr.read()\n",
    "    fr.close()\n",
    "doc = dict(xmltodict.parse(xml))\n",
    "print(doc['cwbopendata']['dataset']['locations']['locationsName'])\n",
    "locations = doc['cwbopendata']['dataset']['locations']['location'] #list of location items\n",
    "for location in locations:\n",
    "    print(location['locationName'])\n",
    "    weathers = location['weatherElement']\n",
    "    tmps = weathers[0]['time']\n",
    "    print('  ',tmps[0]['dataTime'],tmps[0]['elementValue']['value'],'°C')"
   ]
  },
  {
   "cell_type": "code",
   "execution_count": 75,
   "metadata": {},
   "outputs": [
    {
     "name": "stdout",
     "output_type": "stream",
     "text": [
      "鹽埕區\n",
      "   2019-06-28T12:00:00+08:00 33 °C\n",
      "   2019-06-28T15:00:00+08:00 33 °C\n",
      "   2019-06-28T18:00:00+08:00 32 °C\n",
      "   2019-06-28T21:00:00+08:00 30 °C\n",
      "   2019-06-29T00:00:00+08:00 30 °C\n",
      "   2019-06-29T03:00:00+08:00 29 °C\n",
      "   2019-06-29T06:00:00+08:00 28 °C\n",
      "   2019-06-29T09:00:00+08:00 31 °C\n",
      "   2019-06-29T12:00:00+08:00 32 °C\n",
      "   2019-06-29T15:00:00+08:00 32 °C\n",
      "   2019-06-29T18:00:00+08:00 31 °C\n",
      "   2019-06-29T21:00:00+08:00 30 °C\n",
      "   2019-06-30T00:00:00+08:00 29 °C\n",
      "   2019-06-30T03:00:00+08:00 28 °C\n",
      "   2019-06-30T06:00:00+08:00 28 °C\n",
      "   2019-06-30T09:00:00+08:00 31 °C\n",
      "   2019-06-30T12:00:00+08:00 32 °C\n",
      "   2019-06-30T15:00:00+08:00 32 °C\n",
      "   2019-06-30T18:00:00+08:00 31 °C\n",
      "   2019-06-30T21:00:00+08:00 30 °C\n",
      "   2019-07-01T00:00:00+08:00 29 °C\n",
      "   2019-07-01T03:00:00+08:00 29 °C\n",
      "   2019-07-01T06:00:00+08:00 28 °C\n",
      "   2019-07-01T09:00:00+08:00 31 °C\n"
     ]
    }
   ],
   "source": [
    "location_1 = locations[0]\n",
    "print(location_1['locationName'])\n",
    "weathers = location_1['weatherElement']\n",
    "tmps = weathers[0]['time']\n",
    "for tmp in tmps:\n",
    "    print('  ',tmp['dataTime'],tmp['elementValue']['value'],'°C')"
   ]
  },
  {
   "cell_type": "code",
   "execution_count": null,
   "metadata": {},
   "outputs": [],
   "source": []
  }
 ],
 "metadata": {
  "kernelspec": {
   "display_name": "Python 3",
   "language": "python",
   "name": "python3"
  },
  "language_info": {
   "codemirror_mode": {
    "name": "ipython",
    "version": 3
   },
   "file_extension": ".py",
   "mimetype": "text/x-python",
   "name": "python",
   "nbconvert_exporter": "python",
   "pygments_lexer": "ipython3",
   "version": "3.7.1"
  }
 },
 "nbformat": 4,
 "nbformat_minor": 2
}
