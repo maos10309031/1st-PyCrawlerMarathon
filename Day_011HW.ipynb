{
 "cells": [
  {
   "cell_type": "markdown",
   "metadata": {},
   "source": [
    "#### 用正規表達式過濾IP address。\n",
    "* 一個合法的網路IP address，其格式為：X.X.X.X, 其中X是0~255的數字。我們可以用一個regex，來表達IP address的內容。\n",
    "\n",
    "#### 用正規表達式過濾URL。\n",
    "* 在網頁爬蟲中，常常會有外部連結的A tag，例如：\n",
    "\n",
    " < a href=\"https://movies.yahoo.com.tw/movietime_result.html/id=9467\"> 時刻表 < /a>\n",
    "* 我們要把\"href=\"之後的URL擷取出來，用來做後續處理。"
   ]
  },
  {
   "cell_type": "code",
   "execution_count": 11,
   "metadata": {},
   "outputs": [
    {
     "name": "stdout",
     "output_type": "stream",
     "text": [
      "([01]?[0-9][0-9]?|2[0-4][0-9]|25[0-5])\\.([01]?[0-9][0-9]?|2[0-4][0-9]|25[0-5])\\.([01]?[0-9][0-9]?|2[0-4][0-9]|25[0-5])\\.([01]?[0-9][0-9]?|2[0-4][0-9]|25[0-5])\n",
      "match result:216.58.200.22\n",
      "  group(0): 216.58.200.22\n",
      "  group(1): 216\n",
      "  group(2): 58\n",
      "  group(3): 200\n",
      "  group(4): 22\n"
     ]
    }
   ],
   "source": [
    "import re\n",
    "def RegExTest(regex , input_text):\n",
    "    pattern = re.compile(regex)\n",
    "    result = re.search(pattern , input_text)\n",
    "    if result:\n",
    "        print('match result:%s'%(result.group()))\n",
    "        if result.lastindex is not None:\n",
    "            # group(0)代表整個字串，group(1)、group(2)...代表分組中，匹配的內容\n",
    "            for i in range(0, result.lastindex+1):\n",
    "                print(\"  group(%d): %s\" % (i, result.group(i)))\n",
    "    else:\n",
    "        print('not match')\n",
    "regex_ip = '([01]?[0-9][0-9]?|2[0-4][0-9]|25[0-5])'\n",
    "regex_format = regex_ip + ('\\.%s'%(regex_ip))*3\n",
    "# text = ''\n",
    "print(regex_format)\n",
    "test_string = \"Google IP address is 216.58.200.227\"\n",
    "RegExTest(regex_format,test_string)\n",
    "# while text!='q':\n",
    "#     text = input('input the ip text:(enter q to quit:)')\n",
    "#     RegExTest(regex_format,text)"
   ]
  },
  {
   "cell_type": "code",
   "execution_count": null,
   "metadata": {},
   "outputs": [],
   "source": [
    "html_a_tag = \"<a href='https://movies.yahoo.com.tw/movietime_result.html/id=9467'> 時刻表 </a>\"\n",
    "regex = '<\\w+\\s?\\w*\\=?[\\'\\\"]?(.*)[\\'\\\"]?>[\\w\\s]+'"
   ]
  }
 ],
 "metadata": {
  "kernelspec": {
   "display_name": "clawer",
   "language": "python",
   "name": "clawer"
  },
  "language_info": {
   "codemirror_mode": {
    "name": "ipython",
    "version": 3
   },
   "file_extension": ".py",
   "mimetype": "text/x-python",
   "name": "python",
   "nbconvert_exporter": "python",
   "pygments_lexer": "ipython3",
   "version": "3.7.0"
  }
 },
 "nbformat": 4,
 "nbformat_minor": 2
}
