{
 "cells": [
  {
   "cell_type": "code",
   "execution_count": 28,
   "metadata": {},
   "outputs": [],
   "source": [
    "import requests\n",
    "from pyquery import PyQuery as pq\n",
    "from bs4 import BeautifulSoup\n",
    "from grab import Grab\n",
    "url_d = 'https://www.dcard.tw/f/funny'\n",
    "url_g = 'https://google.com'\n",
    "url_z = 'https://www.zhihu.com/explore'\n",
    "g = Grab()"
   ]
  },
  {
   "cell_type": "code",
   "execution_count": 44,
   "metadata": {},
   "outputs": [],
   "source": [
    "headers = {'user-agent':'my-app/0.0'}\n",
    "g.setup(headers = headers)\n",
    "resp = g.go(url_g)"
   ]
  },
  {
   "cell_type": "code",
   "execution_count": 47,
   "metadata": {},
   "outputs": [
    {
     "name": "stdout",
     "output_type": "stream",
     "text": [
      "<title>Google</title>\n"
     ]
    }
   ],
   "source": [
    "doc = pq(resp.body)\n",
    "# post_titles = doc('html')\n",
    "print(doc('title'))"
   ]
  },
  {
   "cell_type": "code",
   "execution_count": 21,
   "metadata": {},
   "outputs": [],
   "source": [
    "r = requests.get(url_d)\n",
    "soup = BeautifulSoup(r.text)\n",
    "posts = soup.find_all('a',class_ = 'PostEntry_root_V6g0rd')[:20]"
   ]
  },
  {
   "cell_type": "code",
   "execution_count": 22,
   "metadata": {},
   "outputs": [
    {
     "name": "stdout",
     "output_type": "stream",
     "text": [
      "這是一隻間諜小豬\n",
      "聖誕節千萬別叫男友給你驚喜\n",
      "整形嚇到外送員\n",
      "帶女兒遇到求生慾極低的男生\n",
      "國際觀就靠它💪每天五分鐘一起LINE TODAY看世界👀要長知識就是今天！\n",
      "小孩講比丘尼\n",
      "聖誕老公公真的來了！\n",
      "半夜因為虎頭蜂被送急診\n",
      "被周湯豪人形立牌欺騙的母親\n",
      "弟弟你拿著螺絲起子在路上幹嘛餒！！\n",
      "Ciao可愛♡手作禮物盒卡片分享！\n",
      "荒唐集中營 拜託先不要\n",
      "媽媽牌鬧鐘\n",
      "有人晚上睡覺會抱著自己睡覺嗎🤣\n",
      "蔥抓餅加蛋\n",
      "2019年就是「亂」？\n",
      "全家吃地瓜夾到石頭\n",
      "超狂聖誕禮物\n",
      "#微西施  送男友的聖誕節花圈\n",
      "這不是我認識的open將\n"
     ]
    }
   ],
   "source": [
    "for post in posts:\n",
    "    print(post.find('h3').string)"
   ]
  },
  {
   "cell_type": "code",
   "execution_count": null,
   "metadata": {},
   "outputs": [],
   "source": [
    "\n"
   ]
  }
 ],
 "metadata": {
  "kernelspec": {
   "display_name": "clawer",
   "language": "python",
   "name": "clawer"
  },
  "language_info": {
   "codemirror_mode": {
    "name": "ipython",
    "version": 3
   },
   "file_extension": ".py",
   "mimetype": "text/x-python",
   "name": "python",
   "nbconvert_exporter": "python",
   "pygments_lexer": "ipython3",
   "version": "3.7.0"
  }
 },
 "nbformat": 4,
 "nbformat_minor": 2
}
