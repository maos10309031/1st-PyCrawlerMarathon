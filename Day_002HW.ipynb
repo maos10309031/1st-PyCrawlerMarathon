{
 "cells": [
  {
   "cell_type": "markdown",
   "metadata": {},
   "source": [
    "#### 比較一下範例檔案中的「File I/O」與「CSV Reader」讀出來的內容有什麼差異\n",
    "\n",
    "根據範例檔案的結果：\n",
    "* 取出班次一的每一個時間\n",
    "* 將班次一的每一個時間用一種資料型態保存\n",
    "* 將班次一到五與其所有時間用一種資料型態個別保存"
   ]
  },
  {
   "cell_type": "markdown",
   "metadata": {},
   "source": [
    "##### File I/O 為用,間隔的純文字字串 ，csv reader 則以python 的串列形式讀取"
   ]
  },
  {
   "cell_type": "code",
   "execution_count": 38,
   "metadata": {},
   "outputs": [
    {
     "name": "stdout",
     "output_type": "stream",
     "text": [
      "[['\\ufeff序號', '路線編號', '起訖站', '平/假日', '站名', '班次1', '班次2', '班次3', '班次4', '班次5', '班次6', '班次7', '班次8', '班次9', '班次10', '班次11', '是否單邊停靠'], ['1', '51', '香山區公所—火車站（先經中山路）', '平日', '香山區公所', '06:30', '07:50', '09:10', '10:30', '12:00', '13:20', '14:40', '16:10', '18:10', '19:40', '21:10', '否']]\n"
     ]
    }
   ],
   "source": [
    "import csv\n",
    "file = list()\n",
    "with open('./example.csv','r',encoding=\"utf-8\") as csvfile:\n",
    "    rows = csv.reader(csvfile)\n",
    "    for row in rows:\n",
    "        file.append(row)\n",
    "print(file[0:2])"
   ]
  },
  {
   "cell_type": "code",
   "execution_count": 33,
   "metadata": {},
   "outputs": [
    {
     "name": "stdout",
     "output_type": "stream",
     "text": [
      "['06:30', '07:50', '09:10', '10:30', '12:00', '13:20', '14:40', '16:10', '18:10', '19:40', '21:10']\n"
     ]
    }
   ],
   "source": [
    "print(file[1][5:-1])"
   ]
  },
  {
   "cell_type": "code",
   "execution_count": 35,
   "metadata": {},
   "outputs": [
    {
     "name": "stdout",
     "output_type": "stream",
     "text": [
      "('06:30', '07:50', '09:10', '10:30', '12:00', '13:20', '14:40', '16:10', '18:10', '19:40', '21:10')\n"
     ]
    }
   ],
   "source": [
    "file_tuple = tuple(file[1][5:-1])\n",
    "print(file_tuple)"
   ]
  },
  {
   "cell_type": "code",
   "execution_count": 42,
   "metadata": {},
   "outputs": [
    {
     "name": "stdout",
     "output_type": "stream",
     "text": [
      "['1', '51', '香山區公所—火車站（先經中山路）', '平日', '香山區公所', '06:30', '07:50', '09:10', '10:30', '12:00', '13:20', '14:40', '16:10', '18:10', '19:40', '21:10', '否']\n",
      "['2', '51', '香山區公所—火車站（先經中山路）', '平日', '香山國小', '06:32', '07:52', '09:12', '10:32', '12:02', '13:22', '14:42', '16:12', '18:12', '19:42', '21:12', '否']\n",
      "['3', '51', '香山區公所—火車站（先經中山路）', '平日', '聖德宮', '06:33', '07:53', '09:13', '10:33', '12:03', '13:23', '14:43', '16:13', '18:13', '19:43', '21:13', '否']\n",
      "['4', '51', '香山區公所—火車站（先經中山路）', '平日', '頂埔社區', '06:34', '07:55', '09:15', '10:35', '12:05', '13:24', '14:45', '16:15', '18:15', '19:45', '21:15', '否']\n",
      "['5', '51', '香山區公所—火車站（先經中山路）', '平日', '大鵬新城', '06:36', '07:57', '09:17', '10:37', '12:07', '13:26', '14:47', '16:17', '18:17', '19:47', '21:17', '單邊停靠']\n"
     ]
    }
   ],
   "source": [
    "bus_list =list()\n",
    "for i in range(5):\n",
    "    bus_list.append(file[i+1])\n",
    "for i in range(5):\n",
    "    print(bus_list[i])"
   ]
  },
  {
   "cell_type": "code",
   "execution_count": null,
   "metadata": {},
   "outputs": [],
   "source": []
  }
 ],
 "metadata": {
  "kernelspec": {
   "display_name": "Python 3",
   "language": "python",
   "name": "python3"
  },
  "language_info": {
   "codemirror_mode": {
    "name": "ipython",
    "version": 3
   },
   "file_extension": ".py",
   "mimetype": "text/x-python",
   "name": "python",
   "nbconvert_exporter": "python",
   "pygments_lexer": "ipython3",
   "version": "3.7.1"
  }
 },
 "nbformat": 4,
 "nbformat_minor": 2
}
