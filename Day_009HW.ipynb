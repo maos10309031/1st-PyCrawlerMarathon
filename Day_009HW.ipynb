{
 "cells": [
  {
   "cell_type": "code",
   "execution_count": 13,
   "metadata": {},
   "outputs": [],
   "source": [
    "from bs4 import BeautifulSoup\n",
    "from PIL import Image\n",
    "import requests,os\n",
    "url = 'https://www.ptt.cc/bbs/Beauty/M.1574854555.A.E5C.html'\n",
    "resp = requests.get(url,cookies = {'over18':'1'})\n",
    "soup = BeautifulSoup(resp.text)\n",
    "\n",
    "output_dir = 'optest'\n",
    "if not os.path.exists(output_dir):\n",
    "    os.makedirs(output_dir)\n",
    "image_tags = soup.find(id = 'main-content').findChildren('a', recursive = False)\n",
    "for tag in image_tags:\n",
    "    if 'imgur' not in tag['href']:\n",
    "        continue\n",
    "    image_id = tag['href'].split('/')[-1]\n",
    "    image_url = 'https://i.imgur.com/{}.jpg'.format(image_id)\n",
    "    with requests.get(image_url, stream = True) as r:\n",
    "        r.raise_for_status()  #檢查請求是否成功\n",
    "        img = Image.open(r.raw)  #檢查副檔名\n",
    "        savename = '{}/{}.{}'.format(output_dir,image_id,img.format.lower())\n",
    "        img.save(savename)"
   ]
  },
  {
   "cell_type": "code",
   "execution_count": null,
   "metadata": {},
   "outputs": [],
   "source": []
  }
 ],
 "metadata": {
  "kernelspec": {
   "display_name": "Python 3",
   "language": "python",
   "name": "python3"
  },
  "language_info": {
   "codemirror_mode": {
    "name": "ipython",
    "version": 3
   },
   "file_extension": ".py",
   "mimetype": "text/x-python",
   "name": "python",
   "nbconvert_exporter": "python",
   "pygments_lexer": "ipython3",
   "version": "3.7.1"
  }
 },
 "nbformat": 4,
 "nbformat_minor": 2
}
