{
 "cells": [
  {
   "cell_type": "code",
   "execution_count": 58,
   "metadata": {
    "scrolled": true
   },
   "outputs": [
    {
     "ename": "KeyboardInterrupt",
     "evalue": "",
     "output_type": "error",
     "traceback": [
      "\u001b[1;31m---------------------------------------------------------------------------\u001b[0m",
      "\u001b[1;31mKeyboardInterrupt\u001b[0m                         Traceback (most recent call last)",
      "\u001b[1;32m<ipython-input-58-94bf0e0a4f9c>\u001b[0m in \u001b[0;36m<module>\u001b[1;34m\u001b[0m\n\u001b[0;32m     18\u001b[0m \u001b[1;32mwhile\u001b[0m \u001b[0mtrigger\u001b[0m \u001b[1;33m!=\u001b[0m\u001b[1;36m1\u001b[0m\u001b[1;33m:\u001b[0m\u001b[1;33m\u001b[0m\u001b[0m\n\u001b[0;32m     19\u001b[0m     \u001b[1;32mfor\u001b[0m \u001b[0mi\u001b[0m \u001b[1;32min\u001b[0m \u001b[0mrange\u001b[0m\u001b[1;33m(\u001b[0m\u001b[1;36m10\u001b[0m\u001b[1;33m)\u001b[0m\u001b[1;33m:\u001b[0m\u001b[1;33m\u001b[0m\u001b[0m\n\u001b[1;32m---> 20\u001b[1;33m         \u001b[0mtime\u001b[0m\u001b[1;33m.\u001b[0m\u001b[0msleep\u001b[0m\u001b[1;33m(\u001b[0m\u001b[1;36m2\u001b[0m\u001b[1;33m)\u001b[0m\u001b[1;33m\u001b[0m\u001b[0m\n\u001b[0m\u001b[0;32m     21\u001b[0m         \u001b[0mbrowser\u001b[0m\u001b[1;33m.\u001b[0m\u001b[0mexecute_script\u001b[0m\u001b[1;33m(\u001b[0m\u001b[1;34m\"window.scrollTo(0, 10000);\"\u001b[0m\u001b[1;33m)\u001b[0m \u001b[1;31m#window.scrollTo(x-coord,y-coord )\u001b[0m\u001b[1;33m\u001b[0m\u001b[0m\n\u001b[0;32m     22\u001b[0m     \u001b[0mhtml_source\u001b[0m \u001b[1;33m=\u001b[0m \u001b[0mbrowser\u001b[0m\u001b[1;33m.\u001b[0m\u001b[0mpage_source\u001b[0m\u001b[1;33m\u001b[0m\u001b[0m\n",
      "\u001b[1;31mKeyboardInterrupt\u001b[0m: "
     ]
    }
   ],
   "source": [
    "import requests,time\n",
    "import datetime\n",
    "from bs4 import BeautifulSoup\n",
    "from selenium import webdriver\n",
    "url = 'https://www.ettoday.net/news/news-list.htm'\n",
    "# res = requests.get(url)\n",
    "# soup = BeautifulSoup(res.text,'html5lib')\n",
    "# for d in soup.find('div',class_ = 'part_list_2').find_all('h3'):\n",
    "#     print(d.find(class_ = 'date').text,d.find('em').text,d.find('a').text)\n",
    "# browser = webdriver.Chrome(executable_path='../chromedriver')\n",
    "# browser.get(\"https://www.ettoday.net/news/news-list.htm\")\n",
    "# # 每隔兩秒鐘自動往下滑\n",
    "browser = webdriver.Chrome(executable_path='../chromedriver')\n",
    "browser.get(\"https://www.ettoday.net/news/news-list.htm\")\n",
    "from time import gmtime, strftime\n",
    "t_Mon,t_Day,t_h,t_m = time.localtime().tm_mon,time.localtime().tm_mday,time.localtime().tm_hour,time.localtime().tm_min\n",
    "trigger = 0\n",
    "while trigger !=1:\n",
    "    for i in range(10):\n",
    "        time.sleep(2)\n",
    "        browser.execute_script(\"window.scrollTo(0, 10000);\") #window.scrollTo(x-coord,y-coord )\n",
    "    html_source = browser.page_source\n",
    "    soup = BeautifulSoup(html_source, \"html5lib\")\n",
    "    # 2小時以內的新\n",
    "#     h,m = soup.find(class_ = 'part_list_2').find_all('h3')[-1].find(class_ = 'date').text[-5:].split(':')\n",
    "#     time_minus = ((int(t_h) - int(h))*60 + int(t_m) - int(m))\n",
    "#     if time_minus > 120:\n",
    "#         trigger = 1\n",
    "#看今天的新聞\n",
    "    s = datetime.date.today()\n",
    "    timeArray = time.strptime(str(s),'%Y-%m-%d')\n",
    "    currentTimeStamp = time.mktime(timeArray)\n",
    "    timeArray = time.strptime(soup.find(class_ = 'part_list_2').find_all('h3')[-1].find(class_ = 'date').text,'%Y/%m/%d %H:%M')\n",
    "    timeStamp = time.mktime(timeArray)\n",
    "    if currentTimeStamp > timeStamp:\n",
    "        trigger = 1\n",
    "#看三天前下午三點到五點的新文\n",
    "#     threeDayAgo = (datetime.datetime.now() – datetime.timedelta(days = 2))\n",
    "#     #拿到兩天前的三點的時間戳\n",
    "#     timeStamp = int(time.mktime(threeDayAgo)) - 32400 - t_h*3600 - t_m - 60\n",
    "#     a = soup.find(class_ = 'part_list_2').find_all('h3')[-1].find(class_ = 'date').text\n",
    "#     timeArray = time.strptime(a,'%Y/%m/%d %H:%M')\n",
    "#     if timeStamp > time.mktime(timeArray):\n",
    "#         trigger = 1\n",
    "# 取得資料，丟到 BeautifulSoup 解析\n",
    "browser.quit()\n",
    "    \n",
    "for d in soup.find(class_=\"part_list_2\").find_all('h3'):\n",
    "    if '1/27' in d.find(class_ = 'date').text:\n",
    "        print(d.find(class_=\"date\").text, d.find_all('a')[-1].text)"
   ]
  },
  {
   "cell_type": "markdown",
   "metadata": {},
   "source": [
    "### 1.取出今天所有的新聞\n",
    "### 2.取出現在時間兩小時內的新聞\n",
    "### 3.根據範例，取出三天前下午三點到五點的新聞"
   ]
  },
  {
   "cell_type": "code",
   "execution_count": 34,
   "metadata": {},
   "outputs": [
    {
     "name": "stdout",
     "output_type": "stream",
     "text": [
      "over 2 hours\n",
      "276\n",
      "16 6\n",
      "11 30\n"
     ]
    }
   ],
   "source": [
    "h,m = soup.find(class_ = 'part_list_2').find_all('h3')[-1].find(class_ = 'date').text[-5:].split(':')\n",
    "t_Mon,t_Day,t_h,t_m = time.localtime().tm_mon,time.localtime().tm_mday,time.localtime().tm_hour,time.localtime().tm_min\n",
    "\n",
    "time_minus = ((int(t_h) - int(h))*60 + int(t_m) - int(m))\n",
    "if time_minus > 120:\n",
    "    print('over 2 hours')\n",
    "print(time_minus)\n",
    "print(t_h,t_m)\n",
    "print(h,m)"
   ]
  },
  {
   "cell_type": "code",
   "execution_count": 55,
   "metadata": {},
   "outputs": [
    {
     "name": "stdout",
     "output_type": "stream",
     "text": [
      "time.struct_time(tm_year=2020, tm_mon=1, tm_mday=27, tm_hour=0, tm_min=0, tm_sec=0, tm_wday=0, tm_yday=27, tm_isdst=-1)\n",
      "1580054400.0\n"
     ]
    }
   ],
   "source": [
    "import datetime\n",
    "s = datetime.date.today()\n",
    "timeArray = time.strptime(str(s),'%Y-%m-%d')\n",
    "print(timeArray)\n",
    "print(time.mktime(timeArray))\n",
    "\n",
    "# print(\n",
    "#     time.mktime()))"
   ]
  },
  {
   "cell_type": "code",
   "execution_count": null,
   "metadata": {},
   "outputs": [],
   "source": []
  }
 ],
 "metadata": {
  "kernelspec": {
   "display_name": "clawer",
   "language": "python",
   "name": "clawer"
  },
  "language_info": {
   "codemirror_mode": {
    "name": "ipython",
    "version": 3
   },
   "file_extension": ".py",
   "mimetype": "text/x-python",
   "name": "python",
   "nbconvert_exporter": "python",
   "pygments_lexer": "ipython3",
   "version": "3.7.0"
  }
 },
 "nbformat": 4,
 "nbformat_minor": 2
}
