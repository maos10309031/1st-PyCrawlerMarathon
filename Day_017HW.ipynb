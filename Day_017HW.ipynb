{
 "cells": [
  {
   "cell_type": "markdown",
   "metadata": {},
   "source": [
    "##### AJAX（Asynchronous JavaScript and XML\n",
    "- 非同步載入的優點\n",
    "* 提升使⽤者體驗\n",
    "* 節省流量"
   ]
  },
  {
   "cell_type": "markdown",
   "metadata": {},
   "source": [
    "#### 1. 動態網頁跟靜態網頁的差別是什麼？原本靜態網頁的做法會產生什麼問題或是缺點？\n",
    "* 靜態網頁與動態網頁是可以同時存在一個網站上的，二種語言各有其優勢，靜態網站主要是用於較於簡單，更新的不頻繁的網頁，反之動態網站較適合用於，資料內容較大，更新快速的網頁，讓維護人員可以更方便管理網站，也大幅降低維護成本。\n",
    "#### 2. 還記得我們在 ETTODAY 靜態爬蟲實作練習中，有請大家完成一個題目「取出今天所有的發文」，但仔細看其實並沒有真的把當天所有的新聞都抓回來， 試著回答看看原因是什麼？及該如何檢查？\n",
    "* "
   ]
  }
 ],
 "metadata": {
  "kernelspec": {
   "display_name": "clawer",
   "language": "python",
   "name": "clawer"
  },
  "language_info": {
   "codemirror_mode": {
    "name": "ipython",
    "version": 3
   },
   "file_extension": ".py",
   "mimetype": "text/x-python",
   "name": "python",
   "nbconvert_exporter": "python",
   "pygments_lexer": "ipython3",
   "version": "3.7.0"
  }
 },
 "nbformat": 4,
 "nbformat_minor": 2
}
