{
 "cells": [
  {
   "cell_type": "markdown",
   "metadata": {},
   "source": [
    "#### 檔案、API、爬蟲三種取得資料方式有什麼不同？\n",
    "* 檔案依照釋出者給予的檔案有特定的格式，ex:csv、xml、json。\n",
    "若要善加利用就要根據其儲存方式做調整\n",
    "* API則是提供可程式化的接口，可在讀取上做更片段的操作，不用整個檔案拿回來整理\n",
    "* 爬蟲則是直接爬取網頁上的資料，再利用程式解析做利用，但在開放性上可能有爭議，若都可取得則優先使用前二"
   ]
  },
  {
   "cell_type": "code",
   "execution_count": 8,
   "metadata": {},
   "outputs": [
    {
     "name": "stdout",
     "output_type": "stream",
     "text": [
      "['.ipynb_checkpoints', '1.txt', 'hello.ipynb', '__PDF__.pdf']\n",
      "['.ipynb_checkpoints', '1.txt', 'hello.ipynb', '__PDF__.pdf']\n"
     ]
    }
   ],
   "source": [
    "from urllib.request import urlretrieve\n",
    "import os\n",
    "#下載檔案並改名\n",
    "try:\n",
    "    urlretrieve ('https://www.w3.org/TR/PNG/iso_8859-1.txt','./1.txt')\n",
    "    path = './'\n",
    "    # files = os.listdir(path)\n",
    "    # print(files)\n",
    "    os.rename('1.txt','Homework.txt')\n",
    "    # files = os.listdir(path)\n",
    "    # print(files)\n",
    "except:\n",
    "    print('發生錯誤')"
   ]
  },
  {
   "cell_type": "markdown",
   "metadata": {},
   "source": [
    "#### 「下載指定檔案到 Data 資料夾，存成檔名 Homework.txt」的檔案網址：https://www.w3.org/TR/PNG/iso_8859-1.txt 或任一個 .txt 的檔案網址\n",
    "\n",
    "##### -檢查 Data 資料夾是否有 Homework.txt 檔名之檔案\n",
    "##### -將「Hello World」字串覆寫到 Homework.txt 檔案\n",
    "##### -檢查 Homework.txt 檔案字數是否符合 Hello World 字數"
   ]
  },
  {
   "cell_type": "code",
   "execution_count": 20,
   "metadata": {},
   "outputs": [
    {
     "name": "stdout",
     "output_type": "stream",
     "text": [
      "[O] 檢查 Data 資料夾是否有 Homework.txt 檔名之檔案\n"
     ]
    }
   ],
   "source": [
    "# try:\n",
    "#     with open('./Homework.txt') as fr:\n",
    "#         print(fr.readline()+'\\n'+'讀取成功')\n",
    "# except:\n",
    "#     print('發生錯誤')\n",
    "files = os.listdir('./')\n",
    "if 'Homework.txt' in files:\n",
    "    print('[O] 檢查 Data 資料夾是否有 Homework.txt 檔名之檔案')\n",
    "else:\n",
    "    print('[X] 檢查 Data 資料夾是否有 Homework.txt 檔名之檔案')"
   ]
  },
  {
   "cell_type": "code",
   "execution_count": 27,
   "metadata": {},
   "outputs": [
    {
     "name": "stdout",
     "output_type": "stream",
     "text": [
      "覆寫檔案\n"
     ]
    }
   ],
   "source": [
    "hello = 'Hello World'\n",
    "with open('./Homework.txt','w') as fw:\n",
    "    print('覆寫檔案')\n",
    "    hello = 'Hello World'\n",
    "    fw.writelines(hello)\n",
    "f = ''\n",
    "try:\n",
    "    with open(\"./Homework.txt\", \"r\") as fh:\n",
    "        for line in fh.readlines():\n",
    "            f += line\n",
    "except EnvironmentError: # parent of IOError, OSError *and* WindowsError where available\n",
    "    pass"
   ]
  },
  {
   "cell_type": "code",
   "execution_count": 29,
   "metadata": {},
   "outputs": [
    {
     "name": "stdout",
     "output_type": "stream",
     "text": [
      "[O] 檢查 Homework.txt 檔案字數是否符合 Hello World 字數\n"
     ]
    }
   ],
   "source": [
    "if len(f) == len('Hello World'):\n",
    "    print('[O] 檢查 Homework.txt 檔案字數是否符合 Hello World 字數')\n",
    "else:\n",
    "    print('[X] 檢查 Homework.txt 檔案字數是否符合 Hello World 字數')"
   ]
  },
  {
   "cell_type": "code",
   "execution_count": null,
   "metadata": {},
   "outputs": [],
   "source": []
  }
 ],
 "metadata": {
  "kernelspec": {
   "display_name": "Python 3",
   "language": "python",
   "name": "python3"
  },
  "language_info": {
   "codemirror_mode": {
    "name": "ipython",
    "version": 3
   },
   "file_extension": ".py",
   "mimetype": "text/x-python",
   "name": "python",
   "nbconvert_exporter": "python",
   "pygments_lexer": "ipython3",
   "version": "3.7.1"
  }
 },
 "nbformat": 4,
 "nbformat_minor": 2
}
