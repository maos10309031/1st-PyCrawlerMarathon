{
 "cells": [
  {
   "cell_type": "code",
   "execution_count": 23,
   "metadata": {},
   "outputs": [
    {
     "name": "stdout",
     "output_type": "stream",
     "text": [
      "30\n",
      "dict_keys(['id', 'title', 'excerpt', 'anonymousSchool', 'anonymousDepartment', 'pinned', 'forumId', 'replyId', 'createdAt', 'updatedAt', 'commentCount', 'likeCount', 'withNickname', 'tags', 'topics', 'meta', 'forumName', 'forumAlias', 'gender', 'school', 'department', 'replyTitle', 'mediaMeta', 'reactions', 'hidden', 'customStyle', 'isSuspiciousAccount', 'layout', 'withImages', 'withVideos', 'media', 'reportReasonText', 'postAvatar'])\n",
      "\n",
      "標題: 我養了一隻工讀生？？\n",
      " 貼文時間: 2019-12-12T02:02:15.440Z,留言人數: 25,按讚人數: 3019\n",
      "標題: 我的奇奇蒂蒂\n",
      " 貼文時間: 2019-12-12T12:01:06.721Z,留言人數: 11,按讚人數: 356\n",
      "標題: #貓 #圖 #忘記收舌頭是不是會傳染🤔🤔\n",
      " 貼文時間: 2019-12-12T02:32:28.334Z,留言人數: 15,按讚人數: 254\n",
      "標題: 第二天依然很chill\n",
      " 貼文時間: 2019-12-12T18:04:06.236Z,留言人數: 4,按讚人數: 226\n",
      "標題: #記錄 誘拐未成年少女?\n",
      " 貼文時間: 2019-12-12T04:48:16.733Z,留言人數: 7,按讚人數: 184\n",
      "標題: 姑姑家養了一隻長頸貓🤨🤨？？\n",
      " 貼文時間: 2019-12-12T05:34:23.963Z,留言人數: 5,按讚人數: 110\n",
      "標題: 跟貓貓狗狗來一場交換禮物派對🎉\n",
      " 貼文時間: 2019-12-13T01:56:18.522Z,留言人數: 0,按讚人數: 106\n",
      "標題: 原來我有隻網美貓\n",
      " 貼文時間: 2019-12-12T09:00:11.651Z,留言人數: 3,按讚人數: 81\n",
      "標題: （問題）撿到鸚鵡\n",
      " 貼文時間: 2019-12-12T05:33:13.389Z,留言人數: 7,按讚人數: 41\n",
      "標題: 6天7份，我該怎麼辦😭\n",
      " 貼文時間: 2019-12-12T23:39:26.497Z,留言人數: 3,按讚人數: 30\n",
      "標題: 所以我說這是肉嗎？？\n",
      " 貼文時間: 2019-12-12T05:08:24.131Z,留言人數: 6,按讚人數: 21\n",
      "標題: 霸氣貓出巡啦😼😼\n",
      " 貼文時間: 2019-12-13T03:35:45.932Z,留言人數: 1,按讚人數: 20\n",
      "標題: 為什麼這樣子～\n",
      " 貼文時間: 2019-12-12T13:01:32.264Z,留言人數: 3,按讚人數: 20\n",
      "標題: #求解 遇到小三介入該如何處理？\n",
      " 貼文時間: 2019-12-12T13:43:30.993Z,留言人數: 0,按讚人數: 19\n",
      "標題: 自己的玩具自己收\n",
      " 貼文時間: 2019-12-13T07:29:01.856Z,留言人數: 1,按讚人數: 17\n",
      "標題: #貓 #睡覺💤\n",
      " 貼文時間: 2019-12-12T07:04:29.926Z,留言人數: 1,按讚人數: 14\n",
      "標題: 寵物被工廠的狗追咬\n",
      " 貼文時間: 2019-12-12T04:08:47.127Z,留言人數: 1,按讚人數: 14\n",
      "標題: 橘貓控請進~\n",
      " 貼文時間: 2019-12-13T08:50:29.624Z,留言人數: 2,按讚人數: 13\n",
      "標題: #貓 無法抵盪的肉球/肉掌照們\n",
      " 貼文時間: 2019-12-13T04:29:05.341Z,留言人數: 3,按讚人數: 13\n",
      "標題: ⭐️養一隻緬因貓是什麼感覺⭐️\n",
      " 貼文時間: 2019-12-13T08:26:49.371Z,留言人數: 0,按讚人數: 12\n",
      "標題: #急 #嘉義 疑似走失的柯基\n",
      " 貼文時間: 2019-12-13T03:39:35.139Z,留言人數: 4,按讚人數: 12\n",
      "標題: 水性楊花早有預兆🤣\n",
      " 貼文時間: 2019-12-12T15:01:41.017Z,留言人數: 3,按讚人數: 12\n",
      "標題: #問卷 #寵物餐廳 救救我們的期末報告(;´༎ຶД༎ຶ`)\n",
      " 貼文時間: 2019-12-12T17:02:35.338Z,留言人數: 5,按讚人數: 11\n",
      "標題: 大哥你的倉鼠交出來！！\n",
      " 貼文時間: 2019-12-13T09:07:00.561Z,留言人數: 0,按讚人數: 9\n",
      "標題: 分享：貓瘟5日療程\n",
      " 貼文時間: 2019-12-13T07:36:00.733Z,留言人數: 0,按讚人數: 9\n",
      "標題: 可愛小蝸牛😍\n",
      " 貼文時間: 2019-12-12T18:33:28.021Z,留言人數: 3,按讚人數: 9\n",
      "標題: 我的原則很簡單，有貓就是買爆\n",
      " 貼文時間: 2019-12-13T10:28:23.680Z,留言人數: 5,按讚人數: 8\n",
      "標題: 每天被我黑的貓\n",
      " 貼文時間: 2019-12-13T07:03:13.502Z,留言人數: 1,按讚人數: 8\n",
      "標題: 主人妳在哪😟\n",
      " 貼文時間: 2019-12-12T12:24:39.995Z,留言人數: 5,按讚人數: 8\n",
      "標題: （台北）撿到可愛喵送養\n",
      " 貼文時間: 2019-12-12T08:16:45.768Z,留言人數: 0,按讚人數: 8\n"
     ]
    }
   ],
   "source": [
    "import requests, json\n",
    "\n",
    "r = requests.get('https://www.dcard.tw/_api/forums/pet/posts?popular=true')\n",
    "popular_j = json.loads(r.text)\n",
    "print('一次抓取資料:',len(popular_j),'筆')\n",
    "print(\"資料屬性:\",popular_j[0].keys())\n",
    "print()\n",
    "for d in popular_j:\n",
    "    print('標題:',d['title'])\n",
    "    print(' 貼文時間:',d['createdAt'],end = ',')\n",
    "    print('留言人數:',d['commentCount'],end=',')\n",
    "    print('按讚人數:',d['likeCount'])"
   ]
  },
  {
   "cell_type": "code",
   "execution_count": 30,
   "metadata": {},
   "outputs": [
    {
     "name": "stdout",
     "output_type": "stream",
     "text": [
      "熱門貼文的平均留言人數:4.13人 ,按讚人數:155.47人\n",
      "非熱門貼文的平均留言人數:2.20人 ,按讚人數: 19.07人\n"
     ]
    }
   ],
   "source": [
    "#熱門\n",
    "cCount = 0\n",
    "lCount = 0\n",
    "for d in popular_j:\n",
    "    cCount += d['commentCount']\n",
    "    lCount += d['likeCount'] \n",
    "print('熱門貼文的平均留言人數:{:3.2f}人 ,按讚人數:{:6.2f}人'.format(cCount/30,lCount/30))\n",
    "cCount = 0\n",
    "lCount = 0\n",
    "r = requests.get('https://www.dcard.tw/_api/forums/pet/posts?popular=false')\n",
    "unpopular_j = json.loads(r.text)\n",
    "for d in unpopular_j:\n",
    "    cCount += d['commentCount']\n",
    "    lCount += d['likeCount'] \n",
    "print('非熱門貼文的平均留言人數:{:3.2f}人 ,按讚人數:{:6.2f}人'.format(cCount/30,lCount/30))"
   ]
  },
  {
   "cell_type": "code",
   "execution_count": null,
   "metadata": {},
   "outputs": [],
   "source": []
  }
 ],
 "metadata": {
  "kernelspec": {
   "display_name": "Python 3",
   "language": "python",
   "name": "python3"
  },
  "language_info": {
   "codemirror_mode": {
    "name": "ipython",
    "version": 3
   },
   "file_extension": ".py",
   "mimetype": "text/x-python",
   "name": "python",
   "nbconvert_exporter": "python",
   "pygments_lexer": "ipython3",
   "version": "3.7.1"
  }
 },
 "nbformat": 4,
 "nbformat_minor": 2
}
