{
 "cells": [
  {
   "cell_type": "code",
   "execution_count": 3,
   "metadata": {},
   "outputs": [
    {
     "name": "stdout",
     "output_type": "stream",
     "text": [
      "<html>\r\n",
      "<head><title>400 Bad Request</title></head>\r\n",
      "<body bgcolor=\"white\">\r\n",
      "<center><h1>400 Bad Request</h1></center>\r\n",
      "<hr><center>openresty</center>\r\n",
      "</body>\r\n",
      "</html>\r\n",
      "\n"
     ]
    }
   ],
   "source": [
    "import requests\n",
    "url = 'https://www.zhihu.com/explore'\n",
    "r = requests.get(url)\n",
    "r.encoding = 'utf-8'\n",
    "print(r.text)"
   ]
  },
  {
   "cell_type": "code",
   "execution_count": 5,
   "metadata": {},
   "outputs": [
    {
     "name": "stdout",
     "output_type": "stream",
     "text": [
      "<!doctype html>\n",
      "<html lang=\"zh\" data-hairline=\"true\" data-theme=\"light\"><head><meta charSet=\"utf-8\"/><title data-react-helmet=\"true\">知乎 - 有问题，上知乎</title><meta name=\"viewport\" content=\"width=device-width,initial-scale=1,maximum-scale=1\"/><meta name=\"renderer\" content=\"webkit\"/><meta name=\"force-rendering\" content=\"webkit\"/><meta http-equiv=\"X-UA-Compatible\" content=\"IE=edge,chrome=1\"/><meta name=\"google-site-verification\" content=\"FTeR0c8arOPKh8c5DYh_9uu98_zJbaWw53J-Sch9MTg\"/><meta name=\"description\" property=\"og:description\" content=\"有问题，上知乎。知乎，可信赖的问答社区，以让每个人高效获得可信赖的解答为使命。知乎凭借认真、专业和友善的社区氛围，结构化\n"
     ]
    }
   ],
   "source": [
    "import requests\n",
    "url = 'http://www.zhihu.com'\n",
    "\n",
    "headers = {'User-Agent': 'Mozilla/5.0',\n",
    "           'Referer': 'https://www.zhihu.com/explore'\n",
    "}\n",
    "\n",
    "r = requests.get(url, headers=headers)\n",
    "\n",
    "r.encoding = 'utf-8'\n",
    "print(r.text[0:600])"
   ]
  },
  {
   "cell_type": "code",
   "execution_count": 19,
   "metadata": {},
   "outputs": [
    {
     "name": "stdout",
     "output_type": "stream",
     "text": [
      "<!DOCTYPE html>\n",
      "<html><head><meta charset=\"utf-8\" class=\"next-head\"/><meta class=\"jsx-1554617145 next-head\" content=\"width=device-width, initial-scale=1.0\" name=\"viewport\"/><meta class=\"jsx-1554617145 next-head\" content=\"noindex\" name=\"robots\"/><title class=\"jsx-1554617145 next-head\">404: 页面不存在 | AICoin</title><link as=\"script\" href=\"https://assets-www.aicoin.net.cn/beta-v20/_next/static/1hjdFP1sO_g4EwubWlSkT/pages/_app.js\" rel=\"preload\"/><link as=\"script\" href=\"https://assets-www.aicoin.net.cn/beta-v20/_next/static/1hjdFP1sO_g4EwubWlSkT/pages/_error.js\" rel=\"preload\"/><link as=\"script\" href=\"https://assets-www.aicoin.net.cn/beta-v20/_next/static/runtime/webpack-ea29d1de7e22502d082d.js\" rel=\"preload\"/><link as=\"script\" href=\"https://assets-www.aicoin.net.cn/beta-v20/_next/static/chunks/commons.369d22fc1b8a45eadcbd.js\" rel=\"preload\"/><link as=\"script\" href=\"https://assets-www.aicoin.net.cn/beta-v20/_next/static/runtime/main-731d52f0633b7ee6aae9.js\" rel=\"preload\"/><link as=\"script\" href=\"https://assets-www.aicoin.net.cn/beta-v20/_next/static/chunks/styles.d670bfc006bd452b7a51.js\" rel=\"preload\"/><link href=\"https://assets-www.aicoin.net.cn/beta-v20/_next/static/css/styles.aac02cb2.chunk.css\" rel=\"stylesheet\"/><style id=\"__jsx-1554617145\">.error.jsx-1554617145{color:#000;background:#fff;font-family:-apple-system,BlinkMacSystemFont,Roboto,\"Segoe UI\",\"Fira Sans\",Avenir,\"Helvetica Neue\",\"Lucida Grande\",sans-serif;height:100vh;text-align:center;display:-webkit-box;display:-webkit-flex;display:-ms-flexbox;display:flex;-webkit-flex-direction:column;-ms-flex-direction:column;flex-direction:column;-webkit-align-items:center;-webkit-box-align:center;-ms-flex-align:center;align-items:center;-webkit-box-pack:center;-webkit-justify-content:center;-ms-flex-pack:center;justify-content:center;}\n",
      "img.jsx-1554617145{width:606px;}\n",
      "p.jsx-1554617145{margin-top:30px;margin-bottom:20px;font-family:PingFangSC-Regular;font-size:14px;color:#999999;-webkit-letter-spacing:0;-moz-letter-spacing:0;-ms-letter-spacing:0;letter-spacing:0;text-align:center;line-height:14px;}\n",
      "a.jsx-1554617145{display:inline-block;font-family:PingFangSC-Regular;min-width:100px;height:30px;line-height:30px;outline:none;padding-top:0;padding-bottom:0;cursor:pointer;}\n",
      "a.jsx-1554617145+a.jsx-1554617145{margin-left:20px;}\n",
      "a.back.jsx-1554617145{border:1px solid #3B87EB;border-radius:15px;font-size:14px;color:#3B87EB;background:#fff;}\n",
      "a.back.jsx-1554617145:hover{background:#3B87EB;border:1px solid #3B87EB;color:#fff;}\n",
      "a.back.jsx-1554617145:active{border:1px solid #3B87EB;background:#fff;color:#3B87EB;}\n",
      "a.feedback.jsx-1554617145{border:1px solid #DADADA;border-radius:15px;font-size:14px;color:#4C525E;background:#fff;}\n",
      "a.feedback.jsx-1554617145:hover{background:#F2F2F2;}\n",
      "a.feedback.jsx-1554617145:active{background:#fff;}</style><meta content=\"webkit\" name=\"renderer\"/><meta content=\"IE=edge\" http-equiv=\"X-UA-Compatible\"/><meta content=\"https://www.aicoin.com\" name=\"site\"/><link href=\"https://assets-www.aicoin.net.cn/beta-v20/static/favicon.ico\" rel=\"icon\" type=\"image/png\"/><script src=\"https://assets-www.aicoin.net.cn/beta-v20/static/@sentry/browser/build/bundle.min.js\"></script><style>\n",
      "            #__next {\n",
      "              height: 100%;\n",
      "            }\n",
      "          </style><script type=\"text/javascript\">\n",
      "            var _paq = window._paq || [];\n",
      "            /* tracker methods like \"setCustomDimension\" should be called before \"trackPageView\" */\n",
      "            /* _paq.push(['trackPageView']); */\n",
      "            _paq.push(['enableLinkTracking']);\n",
      "            (function() {\n",
      "              var u=\"https://a.aicoin.cn/\";\n",
      "              _paq.push(['setTrackerUrl', u+'matomo.php']);\n",
      "              _paq.push(['setSiteId', '2']);\n",
      "              var d=document, g=d.createElement('script'), s=d.getElementsByTagName('script')[0];\n",
      "              g.type='text/javascript'; g.async=true; g.defer=true; g.src=u+'matomo.js'; s.parentNode.insertBefore(g,s);\n",
      "            })();\n",
      "          </script><script async=\"\" data-ad-client=\"ca-pub-4485090392183942\" src=\"https://pagead2.googlesyndication.com/pagead/js/adsbygoogle.js\"></script></head><body><div id=\"__next\"><div data-reactroot=\"\"><div class=\"jsx-1554617145 error\"><div class=\"jsx-1554617145\" id=\"status\"><img class=\"jsx-1554617145\" src=\"https://assets-www.aicoin.net.cn/beta-v20/static/images/404.png\"/><p class=\"jsx-1554617145\">抱歉，您访问的页面不存在～</p><div class=\"jsx-1554617145\"><a class=\"jsx-1554617145 back\" href=\"/\" rel=\"noopener\">返回首页</a></div></div></div></div></div><script>if(!window.Intl){console.log('Polyfill Intl');document.write(decodeURIComponent('%3Cscript%20src%3D%22https%3A%2F%2Fassets-www.aicoin.net.cn%2Fbeta-v20%2Fstatic%2Fpolyfill%2Fintl%2FIntl.min.js%22%3E%3C%2Fscript%3E'))}</script><script></script><script>\n",
      "                window.dataLayer = window.dataLayer || [];\n",
      "                function gtag(){dataLayer.push(arguments);}\n",
      "                gtag('js', new Date());\n",
      "                gtag('config', 'UA-108140256-2');\n",
      "\n",
      "                var _hmt = _hmt || [];\n",
      "                (function() {\n",
      "                  var hm = document.createElement(\"script\");\n",
      "                  hm.async=1;\n",
      "                  hm.src = \"https://hm.baidu.com/hm.js?3c606e4c5bc6e9ff490f59ae4106beb4\";\n",
      "                  var s = document.getElementsByTagName(\"script\")[0];\n",
      "                  s.parentNode.insertBefore(hm, s);\n",
      "                })();\n",
      "              </script><script async=\"\" src=\"https://www.googletagmanager.com/gtag/js?id=UA-108140256-2\"></script><script>\n",
      "                console.clear();\n",
      "                console.log(\n",
      "                  '一个简单的页面需要经历哪些复杂的工序？\\n加入AICoin大家庭一探究竟。\\n请投简历至%cfortran@aicoin.com%c（请注明：%c来自console%c）。\\n我们期待您的来信，祝好！\\n\\n',\n",
      "                  'color: #2a96fa',\n",
      "                  'color: reset',\n",
      "                  'color: #2a96fa',\n",
      "                  'color: reset',\n",
      "                );\n",
      "              </script><script>__NEXT_DATA__ = {\"props\":{\"pageProps\":{\"statusCode\":404,\"now\":1579174715880}},\"page\":\"/_error\",\"query\":{},\"buildId\":\"1hjdFP1sO_g4EwubWlSkT\",\"assetPrefix\":\"https://assets-www.aicoin.net.cn/beta-v20\"};__NEXT_LOADED_PAGES__=[];__NEXT_REGISTER_PAGE=function(r,f){__NEXT_LOADED_PAGES__.push([r, f])}</script><script async=\"\" id=\"__NEXT_PAGE__/_app\" src=\"https://assets-www.aicoin.net.cn/beta-v20/_next/static/1hjdFP1sO_g4EwubWlSkT/pages/_app.js\"></script><script async=\"\" id=\"__NEXT_PAGE__/_error\" src=\"https://assets-www.aicoin.net.cn/beta-v20/_next/static/1hjdFP1sO_g4EwubWlSkT/pages/_error.js\"></script><script async=\"\" src=\"https://assets-www.aicoin.net.cn/beta-v20/_next/static/runtime/webpack-ea29d1de7e22502d082d.js\"></script><script async=\"\" src=\"https://assets-www.aicoin.net.cn/beta-v20/_next/static/chunks/commons.369d22fc1b8a45eadcbd.js\"></script><script async=\"\" src=\"https://assets-www.aicoin.net.cn/beta-v20/_next/static/runtime/main-731d52f0633b7ee6aae9.js\"></script><script async=\"\" src=\"https://assets-www.aicoin.net.cn/beta-v20/_next/static/chunks/styles.d670bfc006bd452b7a51.js\"></script></body></html>\n"
     ]
    }
   ],
   "source": [
    "from bs4 import BeautifulSoup\n",
    "# import jsonlib\n",
    "url = 'http://aicoin.cn/'\n",
    "headers = {'Referer': 'https://www.aicoin.cn/'\n",
    ",'User-Agent': 'Mozilla/5.0'}\n",
    "\n",
    "r = requests.get(url,headers = headers)\n",
    "r.encoding = 'utf-8'\n",
    "soup = BeautifulSoup(r.text,'html5lib')\n",
    "# json_text = jsonlib.read(r.text)\n",
    "print(soup)"
   ]
  },
  {
   "cell_type": "markdown",
   "metadata": {},
   "source": [
    "### Elements：觀察需要取得的 DOM 位置與 Selector 定位。\n",
    "### Network：⽤來觀察存取資料的 API Request（尤其是在動態網⾴爬蟲）。\n",
    "<img src = \"images/elements.PNG\" width=\"800\" />\n",
    "<img src = \"images/network.png\" width=\"800\" />"
   ]
  },
  {
   "cell_type": "markdown",
   "metadata": {},
   "source": [
    "![elements](images/elements.PNG)\n",
    "![network](images/network.PNG)"
   ]
  },
  {
   "cell_type": "code",
   "execution_count": 2,
   "metadata": {},
   "outputs": [
    {
     "name": "stderr",
     "output_type": "stream",
     "text": [
      "'[element]' 不是內部或外部命令、可執行的程式或批次檔。\n",
      "'[]' 不是內部或外部命令、可執行的程式或批次檔。\n",
      "'[Kernel' 不是內部或外部命令、可執行的程式或批次檔。\n",
      "'front-end' 不是內部或外部命令、可執行的程式或批次檔。\n"
     ]
    }
   ],
   "source": [
    "# ![element](images/elements.png)\n",
    "# ![](images/network.png)\n",
    "# ![Kernel & front-end diagram](images/FrontendKernel.png)"
   ]
  },
  {
   "cell_type": "markdown",
   "metadata": {},
   "source": []
  }
 ],
 "metadata": {
  "kernelspec": {
   "display_name": "clawer",
   "language": "python",
   "name": "clawer"
  },
  "language_info": {
   "codemirror_mode": {
    "name": "ipython",
    "version": 3
   },
   "file_extension": ".py",
   "mimetype": "text/x-python",
   "name": "python",
   "nbconvert_exporter": "python",
   "pygments_lexer": "ipython3",
   "version": "3.7.0"
  }
 },
 "nbformat": 4,
 "nbformat_minor": 2
}
